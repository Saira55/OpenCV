{
 "cells": [
  {
   "cell_type": "code",
   "execution_count": 18,
   "id": "e6fbab94",
   "metadata": {},
   "outputs": [
    {
     "name": "stdout",
     "output_type": "stream",
     "text": [
      "Requirement already satisfied: opencv-python in d:\\anaconda\\k\\lib\\site-packages (4.8.0.76)\n",
      "Requirement already satisfied: numpy>=1.21.2 in d:\\anaconda\\k\\lib\\site-packages (from opencv-python) (1.24.3)\n"
     ]
    }
   ],
   "source": [
    "!pip install opencv-python"
   ]
  },
  {
   "cell_type": "code",
   "execution_count": 80,
   "id": "24b6c6ca",
   "metadata": {},
   "outputs": [],
   "source": [
    "import cv2\n",
    "import numpy as np\n",
    "import os"
   ]
  },
  {
   "cell_type": "code",
   "execution_count": 81,
   "id": "b14abb04",
   "metadata": {},
   "outputs": [],
   "source": [
    "files=(\n",
    "    'subway.jpg',\n",
    "    'breakfast.jpg',\n",
    "    'dinner.jpg',\n",
    "    'building.jpg',\n",
    ")\n",
    "\n",
    "f=os.path.join('images', files[0])"
   ]
  },
  {
   "cell_type": "code",
   "execution_count": 82,
   "id": "3cae4016",
   "metadata": {},
   "outputs": [],
   "source": [
    "def view_image(i):\n",
    "    cv2.imshow('view', i)\n",
    "    cv2.waitKey(0)\n",
    "    cv2.destroyAllWindows()"
   ]
  },
  {
   "cell_type": "code",
   "execution_count": 85,
   "id": "4d09dac0",
   "metadata": {},
   "outputs": [],
   "source": [
    "i=cv2.imread(f)\n",
    "view_image(i)"
   ]
  },
  {
   "cell_type": "code",
   "execution_count": 86,
   "id": "e4bba4b5",
   "metadata": {},
   "outputs": [
    {
     "name": "stdout",
     "output_type": "stream",
     "text": [
      "(640, 427, 3)\n",
      "[22 24  4]\n"
     ]
    }
   ],
   "source": [
    "print(i.shape)\n",
    "print(i[0,0,:])"
   ]
  },
  {
   "cell_type": "markdown",
   "id": "9e8d6a93",
   "metadata": {},
   "source": [
    "Task 2"
   ]
  },
  {
   "cell_type": "code",
   "execution_count": 88,
   "id": "d6432731",
   "metadata": {},
   "outputs": [
    {
     "name": "stdout",
     "output_type": "stream",
     "text": [
      "(640, 427)\n",
      "18\n"
     ]
    }
   ],
   "source": [
    "i_gray=cv2.cvtColor(i, cv2.COLOR_BGR2GRAY)\n",
    "print(i_gray.shape)\n",
    "print(i_gray[0,0])\n",
    "view_image(i_gray)"
   ]
  },
  {
   "cell_type": "markdown",
   "id": "5880522f",
   "metadata": {},
   "source": [
    "Gradient Image"
   ]
  },
  {
   "cell_type": "markdown",
   "id": "87cb703a",
   "metadata": {},
   "source": [
    "X gradient"
   ]
  },
  {
   "cell_type": "code",
   "execution_count": 89,
   "id": "c95d1104",
   "metadata": {},
   "outputs": [],
   "source": [
    "sobelx=cv2.Sobel(i_gray, cv2.CV_64F,1,0)\n",
    "abs_sobelx=np.absolute(sobelx)\n",
    "view_image(abs_sobelx / np.max(abs_sobelx))"
   ]
  },
  {
   "cell_type": "markdown",
   "id": "68a38648",
   "metadata": {},
   "source": [
    "Y gradient"
   ]
  },
  {
   "cell_type": "code",
   "execution_count": 91,
   "id": "8391180c",
   "metadata": {},
   "outputs": [],
   "source": [
    "sobely=cv2.Sobel(i_gray, cv2.CV_64F,0,1)\n",
    "abs_sobely=np.absolute(sobely)\n",
    "view_image(abs_sobely / np.max(abs_sobely))"
   ]
  },
  {
   "cell_type": "code",
   "execution_count": 92,
   "id": "1e388176",
   "metadata": {},
   "outputs": [],
   "source": [
    "magnitude=np.sqrt(sobelx**2+ sobely**2)\n",
    "view_image(magnitude / np.max(magnitude))"
   ]
  },
  {
   "cell_type": "markdown",
   "id": "deeb3079",
   "metadata": {},
   "source": [
    "TASK 3"
   ]
  },
  {
   "cell_type": "markdown",
   "id": "f7f7587c",
   "metadata": {},
   "source": [
    "edges detection"
   ]
  },
  {
   "cell_type": "code",
   "execution_count": 94,
   "id": "a586cfb3",
   "metadata": {},
   "outputs": [],
   "source": [
    "edges=cv2.Canny(i_gray, 50, 150)\n",
    "view_image(edges)"
   ]
  },
  {
   "cell_type": "code",
   "execution_count": 95,
   "id": "fa802bf8",
   "metadata": {},
   "outputs": [],
   "source": [
    "edges=cv2.Canny(i_gray, 200, 250)\n",
    "view_image(edges)"
   ]
  },
  {
   "cell_type": "markdown",
   "id": "5aba09d5",
   "metadata": {},
   "source": [
    "Task 4 Recognize Lines"
   ]
  },
  {
   "cell_type": "markdown",
   "id": "8bc1ad57",
   "metadata": {},
   "source": [
    "Hough transform for lines"
   ]
  },
  {
   "cell_type": "code",
   "execution_count": 97,
   "id": "cf980e30",
   "metadata": {},
   "outputs": [],
   "source": [
    "lines=cv2.HoughLinesP(\n",
    "        edges,\n",
    "        rho=1,\n",
    "        theta=1. *np.pi/180.0,\n",
    "        threshold=20,\n",
    "        minLineLength=25,\n",
    "        maxLineGap=5,\n",
    ")\n",
    "\n",
    "i_lines=i.copy()\n",
    "for l in lines:\n",
    "    x1,y1,x2,y2 = l[0]\n",
    "    cv2.line(i_lines, (x1,y1), (x2,y2), (0,0,225), thickness=3)\n",
    "    \n",
    "view_image(i_lines)"
   ]
  },
  {
   "cell_type": "markdown",
   "id": "54c4f499",
   "metadata": {},
   "source": [
    "TASK 5"
   ]
  },
  {
   "cell_type": "markdown",
   "id": "e8f9c4c3",
   "metadata": {},
   "source": [
    "Finding Circle"
   ]
  },
  {
   "cell_type": "markdown",
   "id": "877e96a7",
   "metadata": {},
   "source": [
    "Hugh transform for circles"
   ]
  },
  {
   "cell_type": "code",
   "execution_count": 99,
   "id": "fc212059",
   "metadata": {},
   "outputs": [],
   "source": [
    "circles= cv2.HoughCircles(\n",
    "        i_gray,\n",
    "        method=cv2.HOUGH_GRADIENT,\n",
    "        dp=2,\n",
    "        minDist=35,\n",
    "        param1=150,\n",
    "        param2=40,\n",
    "        minRadius=15,\n",
    "        maxRadius=25)\n",
    "i_circles=i.copy()\n",
    "for x,y,r in circles[0]:\n",
    "    cv2.circle(\n",
    "        i_circles,\n",
    "        (int(x),int(y)),\n",
    "        int(r),\n",
    "        (0,0,255),\n",
    "        thickness=3)\n",
    "    \n",
    "view_image(i_circles)\n"
   ]
  },
  {
   "cell_type": "markdown",
   "id": "d592d7f9",
   "metadata": {},
   "source": [
    "Blur image"
   ]
  },
  {
   "cell_type": "code",
   "execution_count": 101,
   "id": "f431e289",
   "metadata": {},
   "outputs": [],
   "source": [
    "i_blurred=cv2.GaussianBlur(\n",
    "    i_gray,\n",
    "    ksize=(21,21),\n",
    "    sigmaX=0,\n",
    ")\n",
    "view_image(i_blurred)"
   ]
  },
  {
   "cell_type": "markdown",
   "id": "9ca3e7d2",
   "metadata": {},
   "source": [
    "Circle detection on blurred image"
   ]
  },
  {
   "cell_type": "code",
   "execution_count": 102,
   "id": "e5549acb",
   "metadata": {},
   "outputs": [],
   "source": [
    "circles= cv2.HoughCircles(\n",
    "        i_blurred,\n",
    "        method=cv2.HOUGH_GRADIENT,\n",
    "        dp=2,\n",
    "        minDist=35,\n",
    "        param1=150,\n",
    "        param2=40,\n",
    "        minRadius=15,\n",
    "        maxRadius=25)\n",
    "i_circles=i.copy()\n",
    "for x,y,r in circles[0]:\n",
    "    cv2.circle(\n",
    "        i_circles,\n",
    "        (int(x),int(y)),\n",
    "        int(r),\n",
    "        (0,0,255),\n",
    "        thickness=3)\n",
    "    \n",
    "view_image(i_circles)"
   ]
  },
  {
   "cell_type": "code",
   "execution_count": null,
   "id": "3bf5896a",
   "metadata": {},
   "outputs": [],
   "source": []
  }
 ],
 "metadata": {
  "kernelspec": {
   "display_name": "Python 3 (ipykernel)",
   "language": "python",
   "name": "python3"
  },
  "language_info": {
   "codemirror_mode": {
    "name": "ipython",
    "version": 3
   },
   "file_extension": ".py",
   "mimetype": "text/x-python",
   "name": "python",
   "nbconvert_exporter": "python",
   "pygments_lexer": "ipython3",
   "version": "3.11.4"
  }
 },
 "nbformat": 4,
 "nbformat_minor": 5
}
